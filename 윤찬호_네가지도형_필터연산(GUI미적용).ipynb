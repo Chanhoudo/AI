{
  "cells": [
    {
      "cell_type": "code",
      "source": [
        "!pip install -q kaggle"
      ],
      "metadata": {
        "id": "-U7GVcwadmew"
      },
      "execution_count": 1,
      "outputs": []
    },
    {
      "cell_type": "code",
      "source": [
        "!mkdir .kaggle"
      ],
      "metadata": {
        "id": "k4GPP8NSdt1i"
      },
      "execution_count": 2,
      "outputs": []
    },
    {
      "cell_type": "code",
      "source": [
        "!pip install opendatasets"
      ],
      "metadata": {
        "colab": {
          "base_uri": "https://localhost:8080/"
        },
        "id": "VfAQelP-dudc",
        "outputId": "25b8f0af-0997-4b67-c552-dc090c19e56e"
      },
      "execution_count": 3,
      "outputs": [
        {
          "output_type": "stream",
          "name": "stdout",
          "text": [
            "Collecting opendatasets\n",
            "  Downloading opendatasets-0.1.22-py3-none-any.whl (15 kB)\n",
            "Requirement already satisfied: tqdm in /usr/local/lib/python3.10/dist-packages (from opendatasets) (4.66.4)\n",
            "Requirement already satisfied: kaggle in /usr/local/lib/python3.10/dist-packages (from opendatasets) (1.6.14)\n",
            "Requirement already satisfied: click in /usr/local/lib/python3.10/dist-packages (from opendatasets) (8.1.7)\n",
            "Requirement already satisfied: six>=1.10 in /usr/local/lib/python3.10/dist-packages (from kaggle->opendatasets) (1.16.0)\n",
            "Requirement already satisfied: certifi>=2023.7.22 in /usr/local/lib/python3.10/dist-packages (from kaggle->opendatasets) (2024.6.2)\n",
            "Requirement already satisfied: python-dateutil in /usr/local/lib/python3.10/dist-packages (from kaggle->opendatasets) (2.8.2)\n",
            "Requirement already satisfied: requests in /usr/local/lib/python3.10/dist-packages (from kaggle->opendatasets) (2.31.0)\n",
            "Requirement already satisfied: python-slugify in /usr/local/lib/python3.10/dist-packages (from kaggle->opendatasets) (8.0.4)\n",
            "Requirement already satisfied: urllib3 in /usr/local/lib/python3.10/dist-packages (from kaggle->opendatasets) (2.0.7)\n",
            "Requirement already satisfied: bleach in /usr/local/lib/python3.10/dist-packages (from kaggle->opendatasets) (6.1.0)\n",
            "Requirement already satisfied: webencodings in /usr/local/lib/python3.10/dist-packages (from bleach->kaggle->opendatasets) (0.5.1)\n",
            "Requirement already satisfied: text-unidecode>=1.3 in /usr/local/lib/python3.10/dist-packages (from python-slugify->kaggle->opendatasets) (1.3)\n",
            "Requirement already satisfied: charset-normalizer<4,>=2 in /usr/local/lib/python3.10/dist-packages (from requests->kaggle->opendatasets) (3.3.2)\n",
            "Requirement already satisfied: idna<4,>=2.5 in /usr/local/lib/python3.10/dist-packages (from requests->kaggle->opendatasets) (3.7)\n",
            "Installing collected packages: opendatasets\n",
            "Successfully installed opendatasets-0.1.22\n"
          ]
        }
      ]
    },
    {
      "cell_type": "code",
      "source": [
        "import opendatasets as od"
      ],
      "metadata": {
        "id": "zJTaJcizdwYu"
      },
      "execution_count": 4,
      "outputs": []
    },
    {
      "cell_type": "code",
      "source": [
        "od.download(\"https://www.kaggle.com/datasets/smeschke/four-shapes\")"
      ],
      "metadata": {
        "colab": {
          "base_uri": "https://localhost:8080/"
        },
        "id": "CWumE0AWdySH",
        "outputId": "11c2664b-87b1-4c2a-9dbe-4796119b6d5f"
      },
      "execution_count": 5,
      "outputs": [
        {
          "output_type": "stream",
          "name": "stdout",
          "text": [
            "Please provide your Kaggle credentials to download this dataset. Learn more: http://bit.ly/kaggle-creds\n",
            "Your Kaggle username: yunchanho\n",
            "Your Kaggle Key: ··········\n",
            "Dataset URL: https://www.kaggle.com/datasets/smeschke/four-shapes\n",
            "Downloading four-shapes.zip to ./four-shapes\n"
          ]
        },
        {
          "output_type": "stream",
          "name": "stderr",
          "text": [
            "100%|██████████| 21.6M/21.6M [00:00<00:00, 89.5MB/s]\n"
          ]
        },
        {
          "output_type": "stream",
          "name": "stdout",
          "text": [
            "\n"
          ]
        }
      ]
    },
    {
      "cell_type": "code",
      "source": [
        "import numpy as np\n",
        "import pandas as pd\n",
        "import os\n",
        "import glob\n",
        "import cv2\n",
        "from sklearn.utils import shuffle\n",
        "import keras\n",
        "from keras.models import Sequential\n",
        "from keras.layers import Dense,Conv2D,MaxPooling2D,Flatten,Dropout\n",
        "from tensorflow.keras.layers import BatchNormalization"
      ],
      "metadata": {
        "id": "6slLqTtGQwHo"
      },
      "execution_count": 7,
      "outputs": []
    },
    {
      "cell_type": "code",
      "source": [
        "import keras\n",
        "from keras.models import Sequential\n",
        "from keras.layers import Dense,Conv2D,MaxPooling2D,Flatten,Dropout\n",
        "from tensorflow.keras.layers import BatchNormalization"
      ],
      "metadata": {
        "id": "A7IVqFLgQyek"
      },
      "execution_count": 9,
      "outputs": []
    },
    {
      "cell_type": "code",
      "source": [
        "#Define a path to our data\n",
        "circle_train_path = 'four-shapes/shapes/*circle'\n",
        "square_train_path = 'four-shapes/shapes/*square'\n",
        "star_train_path = 'four-shapes/shapes/*star'\n",
        "triangle_train_path = 'four-shapes/shapes/*triangle'\n",
        "cir_path = os.path.join(circle_train_path,'*g')\n",
        "sq_path = os.path.join(square_train_path,'*g')\n",
        "str_path = os.path.join(star_train_path,'*g')\n",
        "trg_path = os.path.join(triangle_train_path,'*g')\n",
        "#create train array\n",
        "x_train = []\n",
        "y_train = []"
      ],
      "metadata": {
        "id": "MyCa1Dg3Q0hJ"
      },
      "execution_count": 10,
      "outputs": []
    },
    {
      "cell_type": "code",
      "source": [
        "print(\"Reading Training Data\")\n",
        "#reading data to memory\n",
        "file_1 = glob.glob(cir_path)\n",
        "for f1 in file_1:\n",
        "  img = cv2.imread(f1)\n",
        "  x_train.append(img)\n",
        "  y_train.append([1,0,0,0])\n",
        "print(\"25% Complete\")\n",
        "file_2 = glob.glob(sq_path)\n",
        "for f2 in file_2:\n",
        "  img = cv2.imread(f2)\n",
        "  x_train.append(img)\n",
        "  y_train.append([0,1,0,0])\n",
        "print(\"50% Complete\")\n",
        "file_3 = glob.glob(str_path)\n",
        "for f3 in file_3:\n",
        "  img = cv2.imread(f3)\n",
        "  x_train.append(img)\n",
        "  y_train.append([0,0,1,0])\n",
        "print(\"75% Complete\")\n",
        "file_4 = glob.glob(trg_path)\n",
        "for f4 in file_4:\n",
        "  img = cv2.imread(f4)\n",
        "  x_train.append(img)\n",
        "  y_train.append([0,0,0,1])\n",
        "\n",
        "x_train = np.array(x_train)\n",
        "y_train = np.array(y_train)\n",
        "\n",
        "x_train, y_train = shuffle(x_train,y_train)\n",
        "print(\"Finished Reading Training Data\")"
      ],
      "metadata": {
        "colab": {
          "base_uri": "https://localhost:8080/"
        },
        "id": "SBGfZ-9yQ7i5",
        "outputId": "4d34faf9-a63a-40ae-8678-494fc149fde3"
      },
      "execution_count": 12,
      "outputs": [
        {
          "output_type": "stream",
          "name": "stdout",
          "text": [
            "Reading Training Data\n",
            "25% Complete\n",
            "50% Complete\n",
            "75% Complete\n",
            "Finished Reading Training Data\n"
          ]
        }
      ]
    },
    {
      "cell_type": "code",
      "source": [
        "#create a model\n",
        "model = Sequential()\n",
        "model.add(Conv2D(32,(3,3),activation='relu',input_shape = (200,200,3)))\n",
        "model.add(MaxPooling2D((2,2),strides = (2,2)))\n",
        "model.add(BatchNormalization())\n",
        "model.add(Conv2D(64,(2,2),activation='relu'))\n",
        "model.add(MaxPooling2D((2,2),strides = (2,2)))\n",
        "model.add(Conv2D(128,(2,2),activation='relu'))\n",
        "model.add(MaxPooling2D((2,2),strides = (2,2)))\n",
        "model.add(BatchNormalization())\n",
        "model.add(Conv2D(256,(5,5),activation='relu'))\n",
        "model.add(MaxPooling2D((2,2),strides = (2,2)))\n",
        "model.add(BatchNormalization())\n",
        "model.add(Flatten())\n",
        "model.add(Dense(4096,activation = 'relu'))\n",
        "model.add(Dropout(0.5))\n",
        "model.add(Dense(4,activation='softmax'))"
      ],
      "metadata": {
        "id": "eMJuLDarQ-UI"
      },
      "execution_count": 13,
      "outputs": []
    },
    {
      "cell_type": "code",
      "source": [
        "#model compile, fit and save\n",
        "model.compile(loss=keras.losses.categorical_crossentropy,\n",
        "optimizer=keras.optimizers.SGD(lr=0.00001),\n",
        "metrics = ['accuracy'])\n",
        "model.fit(x_train,y_train,batch_size = 1,epochs = 2,verbose = 1,validation_split = 0.0)\n",
        "model.save('shape_recg.h5')\n",
        "#del model"
      ],
      "metadata": {
        "colab": {
          "base_uri": "https://localhost:8080/"
        },
        "id": "N_s5-AXrRFA6",
        "outputId": "5d76ea05-481f-439d-8643-cd2e469a7c45"
      },
      "execution_count": null,
      "outputs": [
        {
          "output_type": "stream",
          "name": "stderr",
          "text": [
            "WARNING:absl:`lr` is deprecated in Keras optimizer, please use `learning_rate` or use the legacy optimizer, e.g.,tf.keras.optimizers.legacy.SGD.\n"
          ]
        },
        {
          "output_type": "stream",
          "name": "stdout",
          "text": [
            "Epoch 1/2\n",
            " 7042/14970 [=============>................] - ETA: 1:24:36 - loss: nan - accuracy: 0.2484"
          ]
        }
      ]
    },
    {
      "cell_type": "markdown",
      "source": [],
      "metadata": {
        "id": "XeouKkNzc6__"
      }
    },
    {
      "cell_type": "code",
      "source": [
        "#load our model again\n",
        "from keras.models import load_model\n",
        "model = load_model('shape_recg.h5')"
      ],
      "metadata": {
        "id": "OgM1TkNaRHKV"
      },
      "execution_count": null,
      "outputs": []
    },
    {
      "cell_type": "code",
      "source": [
        "import cv2\n",
        "import numpy as np\n",
        "#test model on image\n",
        "dir_path = 'four-shapes/shapes/circle/2.png'\n",
        "test_img = cv2.imread(dir_path)\n",
        "test_img = test_img.reshape(1,200,200,3)\n",
        "Y = model.predict(test_img)[0]\n",
        "val = np.argmax(Y)\n",
        "if(val == 0):\n",
        "  print(\"Circle\")\n",
        "elif(val == 1):\n",
        "  print(\"Square\")\n",
        "elif(val == 2):\n",
        "  print(\"Star\")\n",
        "else:\n",
        "  print(\"Triangle\")"
      ],
      "metadata": {
        "id": "s2cCHlUcRJLB"
      },
      "execution_count": null,
      "outputs": []
    },
    {
      "cell_type": "code",
      "source": [],
      "metadata": {
        "id": "7M4qy1WXRKZv"
      },
      "execution_count": null,
      "outputs": []
    }
  ],
  "metadata": {
    "accelerator": "GPU",
    "colab": {
      "gpuType": "T4",
      "provenance": []
    },
    "kernelspec": {
      "display_name": "Python 3",
      "name": "python3"
    },
    "language_info": {
      "name": "python"
    }
  },
  "nbformat": 4,
  "nbformat_minor": 0
}